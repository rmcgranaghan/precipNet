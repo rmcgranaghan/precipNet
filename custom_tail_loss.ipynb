{
 "cells": [
  {
   "cell_type": "code",
   "execution_count": null,
   "id": "240f087e",
   "metadata": {},
   "outputs": [],
   "source": [
    "# Acknowledgement: Jack Ziegler (author); adapted from http://staff.ustc.edu.cn/~hexn/papers/kdd19-timeseries.pdf\n",
    "import tensorflow.keras.backend as K\n",
    "from tensorflow.keras.layers import Input\n",
    "\n",
    "def custom_tail_loss(y_true, y_pred):\n",
    "    \n",
    "\n",
    "    loss = K.mean( \n",
    "        2.5*(y_true-y_pred)*(y_true-y_pred)\n",
    "        *K.cast(K.greater(y_true,11.5),'float32')*K.cast(K.less_equal(y_pred,11.5),'float32') +\n",
    "        5*(y_true-y_pred)*(y_true-y_pred) \n",
    "        *K.cast(K.greater(y_true,12.),'float32')*K.cast(K.less_equal(y_pred,12.0),'float32') +\n",
    "        10*(y_true-y_pred)*(y_true-y_pred)\n",
    "        *K.cast(K.greater(y_true,12.5),'float32')*K.cast(K.less_equal(y_pred,12.5),'float32')  \n",
    "        +\n",
    "        10*(y_true-y_pred)*(y_true-y_pred)\n",
    "        *K.cast(K.greater(y_true,12.75),'float32')*K.cast(K.less_equal(y_pred,12.75),'float32')  \n",
    "        +\n",
    "        10*(y_true-y_pred)*(y_true-y_pred)\n",
    "        *K.cast(K.greater(y_true,13.),'float32')*K.cast(K.less_equal(y_pred,13.),'float32')  \n",
    "    )             \n",
    "                 \n",
    "            \n",
    "    loss =  loss+K.mean((y_true-y_pred)*(y_true-y_pred))\n",
    "\n",
    "    return loss"
   ]
  }
 ],
 "metadata": {
  "kernelspec": {
   "display_name": "Python 3",
   "language": "python",
   "name": "python3"
  },
  "language_info": {
   "codemirror_mode": {
    "name": "ipython",
    "version": 3
   },
   "file_extension": ".py",
   "mimetype": "text/x-python",
   "name": "python",
   "nbconvert_exporter": "python",
   "pygments_lexer": "ipython3",
   "version": "3.9.2"
  }
 },
 "nbformat": 4,
 "nbformat_minor": 5
}
