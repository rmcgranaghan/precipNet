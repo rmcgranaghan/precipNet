{
 "cells": [
  {
   "cell_type": "code",
   "execution_count": 1,
   "metadata": {
    "ExecuteTime": {
     "end_time": "2021-02-13T20:58:49.680043Z",
     "start_time": "2021-02-13T20:58:46.342772Z"
    }
   },
   "outputs": [],
   "source": [
    "import numpy as np\n",
    "import os\n",
    "import pandas as pd\n",
    "import seaborn as sns\n",
    "from pandas.plotting import register_matplotlib_converters\n",
    "register_matplotlib_converters()\n",
    "import datetime\n",
    "from os.path import isfile, join\n",
    "from sys import getsizeof\n",
    "import glob\n",
    "\n",
    "from random import *\n",
    "\n",
    "from sklearn import preprocessing\n",
    "from sklearn import metrics\n",
    "from sklearn.ensemble import RandomForestRegressor\n",
    "from sklearn.model_selection import ParameterGrid\n",
    "from sklearn.model_selection import StratifiedKFold\n",
    "\n",
    "from pickle import dump\n",
    "import joblib\n",
    "\n",
    "# from keras import backend as K\n",
    "import tensorflow.keras as k\n",
    "from tensorflow.keras import utils, models, layers, optimizers\n",
    "from tensorflow.keras.wrappers.scikit_learn import KerasClassifier, KerasRegressor\n",
    "from tensorflow.keras.callbacks import EarlyStopping\n",
    "from tensorflow.keras.callbacks import ModelCheckpoint\n",
    "from tensorflow.keras.models import load_model\n",
    "\n",
    "import tensorflow as tf\n",
    "\n",
    "\n",
    "\n"
   ]
  },
  {
   "cell_type": "code",
   "execution_count": null,
   "metadata": {},
   "outputs": [],
   "source": []
  },
  {
   "cell_type": "code",
   "execution_count": null,
   "metadata": {},
   "outputs": [],
   "source": [
    "# NOTE: this needs to be changed to the local directory to which the data have been downloaded\n",
    "ml_directory = '/Users/ryanmcgranaghan/Documents/DMSPdata/precipNet/ml_model/'\n",
    "ml_model_save_file = os.path.join(ml_directory,'ml_model.h5')\n",
    "model = load_model(ml_model_save_file)\n",
    "\n",
    "\n",
    "input_features_labels = [line.rstrip('\\n') for line in open(os.path.join(ml_directory,'inputfeature_labels.txt'))]\n",
    "print('input features for this ML model = {}'.format(input_features_labels))\n",
    "\n",
    "# load the input feature scaler \n",
    "from pickle import load\n",
    "scaler_X = load(open(os.path.join(ml_directory,'input_data_scaler.pkl'), 'rb'))"
   ]
  },
  {
   "cell_type": "code",
   "execution_count": null,
   "metadata": {},
   "outputs": [],
   "source": [
    "## Create data samples following the columns in the input features list in a dataframe: df_predict and use the following command to make predictions\n",
    "predictions = model.predict( scaler_X.transform(df_predict.values) )"
   ]
  },
  {
   "cell_type": "code",
   "execution_count": null,
   "metadata": {},
   "outputs": [],
   "source": []
  },
  {
   "cell_type": "code",
   "execution_count": null,
   "metadata": {},
   "outputs": [],
   "source": []
  }
 ],
 "metadata": {
  "kernelspec": {
   "display_name": "Python 3",
   "language": "python",
   "name": "python3"
  },
  "language_info": {
   "codemirror_mode": {
    "name": "ipython",
    "version": 3
   },
   "file_extension": ".py",
   "mimetype": "text/x-python",
   "name": "python",
   "nbconvert_exporter": "python",
   "pygments_lexer": "ipython3",
   "version": "3.6.8"
  }
 },
 "nbformat": 4,
 "nbformat_minor": 4
}
